{
 "cells": [
  {
   "cell_type": "code",
   "execution_count": null,
   "metadata": {},
   "outputs": [],
   "source": [
    "import random\n",
    "import os, glob\n",
    "import json"
   ]
  },
  {
   "cell_type": "code",
   "execution_count": null,
   "metadata": {},
   "outputs": [],
   "source": [
    "# train-val split\n",
    "# get list of all non-HFR and HFR source sequences\n",
    "hfr_dict, nonhfr_dict = {}, {}\n",
    "all_avis = glob.glob('F:/data/BVI-Artefact-train/avi/*.avi')\n",
    "with open(os.path.join('F:/data/BVI-Artefact-train', 'labels.json'), 'r') as f:\n",
    "    label_dict = json.load(f)\n",
    "\n",
    "# populate hfr_dict and nonhfr_dict\n",
    "for avi_path in all_avis:\n",
    "    fname = os.path.split(avi_path)[1]\n",
    "    seqname = fname.split('_')[0]\n",
    "    fname_yuv = fname.replace('.avi', '.yuv')\n",
    "    isHFR = label_dict[fname_yuv]['noise_config']['motion_blur']['active']\n",
    "    if isHFR:\n",
    "        hfr_dict[seqname] = hfr_dict[seqname]+[fname,] if seqname in hfr_dict.keys() else [fname,]\n",
    "    else:\n",
    "        nonhfr_dict[seqname] = nonhfr_dict[seqname]+[fname,] if seqname in nonhfr_dict.keys() else [fname,]\n",
    "\n",
    "# select 20 seqs from hfr sources that have 120 derived videos\n",
    "hfr_seqs = random.sample([seq for seq in hfr_dict.keys() if len(hfr_dict[seq]) == 120], 20)\n",
    "# select 30 seqs from nonhfr sources that have 80 derived videos\n",
    "nonhfr_seqs = random.sample([seq for seq in nonhfr_dict.keys() if len(nonhfr_dict[seq]) == 80], 30)\n",
    "\n",
    "# get avi paths of all derived sequences from the 20 sources\n",
    "valid_avi_list = [avi for seq in hfr_seqs for avi in hfr_dict[seq]]\n",
    "valid_avi_list += [avi for seq in nonhfr_seqs for avi in nonhfr_dict[seq]]\n",
    "\n",
    "# write to json\n",
    "with open('F:/data/BVI-Artefact-train/val_split.json', 'w') as f:\n",
    "    json.dump({'val': valid_avi_list}, f, indent=4)"
   ]
  }
 ],
 "metadata": {
  "language_info": {
   "name": "python"
  }
 },
 "nbformat": 4,
 "nbformat_minor": 2
}
